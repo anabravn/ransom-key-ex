{
 "cells": [
  {
   "cell_type": "code",
   "execution_count": 1,
   "metadata": {},
   "outputs": [],
   "source": [
    "from Crypto.Cipher import AES\n",
    "import pandas as pd\n",
    "\n",
    "# Arquivo criptografado\n",
    "f = open(\"sample.txt.CRYPT\", \"rb\")\n",
    "sample = f.read(296)\n",
    "f.close()\n"
   ]
  },
  {
   "cell_type": "code",
   "execution_count": 3,
   "metadata": {},
   "outputs": [
    {
     "name": "stdout",
     "output_type": "stream",
     "text": [
      "b'\\x00\\x00\\x01\\x00'\n",
      "256\n",
      "524288000\n"
     ]
    }
   ],
   "source": [
    "# Campos do cabeçalhos\n",
    "size = int.from_bytes(sample[279:271:-1]) # 272-279\n",
    "key_size = int.from_bytes(sample[11:7:-1]) # 8-11\n",
    "# key 12-267\n",
    "# 280 - file \n",
    "print(sample[11:7:-1])\n",
    "print(key_size)\n",
    "print(size)"
   ]
  },
  {
   "cell_type": "markdown",
   "metadata": {},
   "source": [
    "### Árvore VAD\n",
    "Páginas com conteúdo da pilha e *heap* são páginas de memória privada. Filtrando os nós da árvore VAD por páginas com memória privada, e ordenando pelo endereço virtual em ordem decrescente, obtemos uma lista com as páginas que provavelmente contém conteúdo da pilha de um processo."
   ]
  },
  {
   "cell_type": "code",
   "execution_count": 4,
   "metadata": {},
   "outputs": [
    {
     "data": {
      "text/plain": [
       "'pid.5928.vad.0x130000-0x16ffff.dmp pid.5928.vad.0x190000-0x191fff.dmp pid.5928.vad.0x1b0000-0x1b3fff.dmp pid.5928.vad.0x200000-0x3fffff.dmp pid.5928.vad.0x2530000-0x253ffff.dmp pid.5928.vad.0x2540000-0x264afff.dmp pid.5928.vad.0x2650000-0x2757fff.dmp pid.5928.vad.0x400000-0x4fffff.dmp pid.5928.vad.0x510000-0x513fff.dmp pid.5928.vad.0x550000-0x64ffff.dmp pid.5928.vad.0x6b0000-0x6bffff.dmp pid.5928.vad.0x7ff50000-0x7ff58fff.dmp pid.5928.vad.0x7ff60000-0x7ff61fff.dmp pid.5928.vad.0x7ff70000-0x7ff80fff.dmp pid.5928.vad.0x7ff90000-0x7ff91fff.dmp pid.5928.vad.0xa80000-0xa8ffff.dmp'"
      ]
     },
     "execution_count": 4,
     "metadata": {},
     "output_type": "execute_result"
    }
   ],
   "source": [
    "# Saída do plugin vadinfo\n",
    "df = pd.read_csv(\"vadinfo.txt\", sep=\"\\t\")\n",
    "\n",
    "# Obtem lista com nome dos arquivos das páginas de memória\n",
    "# privada de leitura e escrita ordenadas por endereço virtual\n",
    "files = df[(df[\"PrivateMemory\"] == 1) & (df[\"Protection\"] == \"PAGE_READWRITE\")]\\\n",
    "    .sort_values(\"Start VPN\")[\"File output\"].to_list()\n",
    "\n",
    "\" \".join(files)\n"
   ]
  },
  {
   "cell_type": "markdown",
   "metadata": {},
   "source": [
    "### Entropia\n",
    "Uma estimativa do valor de entropia é suficiente para diferenciar regiões de memória com alta entropia. Uma boa estimativa é a quantidade de valores diferentes em uma sequência de bytes.\n",
    "\n",
    "$$\n",
    "    \\text{entropy}(x) = \\sum^n_{i=0}{- p_i \\cdot \\log_2(x_i)}\n",
    "$$"
   ]
  },
  {
   "cell_type": "code",
   "execution_count": 6,
   "metadata": {},
   "outputs": [],
   "source": [
    "def entropy_st(sequence: bytes) -> float:\n",
    "    \"\"\"Estima a entropia da sequencia de bytes.\"\"\"\n",
    "\n",
    "    # Número de valores únicos\n",
    "    return len(set(sequence))"
   ]
  },
  {
   "cell_type": "markdown",
   "metadata": {},
   "source": [
    "### Descriptografia\n",
    "\n",
    "Para verificar se a chave e vetor de inicialização utilizados estão corretos, deve-se utilizar alguma característica conhecida do arquivo a ser descriptografado. Como conhecemos o conteúdo do arquivo de texto, podemos utilizar o primeiro caractere como confirmação. Em outros casos, é possível se aproveitar de características do tipo de arquivo, como o marcador \"JFIF\", que aparece na posição 6 em imagens no formato PNG.\n",
    "\n",
    "A busca torna-se mais eficiente se em vez de tentar descriptografar todo o conteúdo do arquivo, utilizar somente os primeiros 16 bytes, ou seja, o primeiro bloco criptografado pelo algoritmo AES. A decodificação parcial é possível devido as características do algoritmo e do modo CBC."
   ]
  },
  {
   "cell_type": "code",
   "execution_count": 28,
   "metadata": {},
   "outputs": [],
   "source": [
    "count = 0\n",
    "\n",
    "def try_decrypt(data: bytes, key: bytes, iv: bytes):\n",
    "    \"\"\"\n",
    "    Tenta descriptografar os dados, retorna o resultado caso\n",
    "    consiga decodificar em uma string unicode.\n",
    "    \"\"\"\n",
    "    global count\n",
    "    count += 1\n",
    "    cipher = AES.new(key=key, iv=iv, mode=AES.MODE_CBC)\n",
    "    decrypted = cipher.decrypt(data)\n",
    "    \n",
    "    try:\n",
    "        txt = decrypted.decode()\n",
    "        if txt[0] == \"g\":\n",
    "            return txt\n",
    "    except UnicodeDecodeError:\n",
    "        pass"
   ]
  },
  {
   "cell_type": "markdown",
   "metadata": {},
   "source": [
    "### Limite de entropia\n",
    "O limite da estimativa de entropia foi determinado por tentativa e erro, definido como 40 bytes."
   ]
  },
  {
   "cell_type": "code",
   "execution_count": 24,
   "metadata": {},
   "outputs": [],
   "source": [
    "def scan_decrypt(fname: str, data: bytes, threshold=40, window=48):\n",
    "    \"\"\"\n",
    "    Busca por regiões em que a estimativa de entropia é\n",
    "    maior que threshold, e tenta descriptografar os dados\n",
    "    \"\"\"\n",
    "\n",
    "    f = open(fname, \"rb\")\n",
    "    page = f.read()\n",
    "\n",
    "    for i in range(0, len(page)):\n",
    "        seq = page[i:i+window]\n",
    "        ent = entropy_st(seq)\n",
    "\n",
    "        if ent >= threshold:\n",
    "            txt = try_decrypt(data, seq[:32], seq[32:])\n",
    "            if txt:\n",
    "                return seq, txt"
   ]
  },
  {
   "cell_type": "markdown",
   "metadata": {},
   "source": [
    "### Recuperação"
   ]
  },
  {
   "cell_type": "code",
   "execution_count": 31,
   "metadata": {},
   "outputs": [
    {
     "name": "stdout",
     "output_type": "stream",
     "text": [
      "pid.5928.vad.0x400000-0x4fffff.dmp gdlndeygjcyhvcaw\n",
      "3122955 tentativas\n"
     ]
    }
   ],
   "source": [
    "data = sample[280:]\n",
    "\n",
    "for fname in files:\n",
    "    re = scan_decrypt(\"vad/\" + fname, data)\n",
    "\n",
    "    if re:\n",
    "        seq, txt = re\n",
    "        key = seq[:32]\n",
    "        iv = seq[32:]\n",
    "\n",
    "        print(fname, txt)\n",
    "        break\n",
    "\n",
    "print(str(count) + \" tentativas\")"
   ]
  },
  {
   "cell_type": "code",
   "execution_count": 32,
   "metadata": {},
   "outputs": [
    {
     "name": "stdout",
     "output_type": "stream",
     "text": [
      "D1 7B 33 8B A5 91 B1 A8 3B D0 89 A0 F0 E1 02 02 79 52 9A 99 11 A4 3D 23 EA A0 70 5D 55 60 D6 15 \n",
      "DE 80 E1 A2 EC E6 A8 73 19 A4 AF 0D 28 9D 3B D6 \n"
     ]
    }
   ],
   "source": [
    "def print_hex(seq):\n",
    "    for byte in seq:\n",
    "        txt = \"%02x\" % (byte)\n",
    "        print(txt.upper(), end=\" \")\n",
    "    print()\n",
    "\n",
    "print_hex(key)\n",
    "print_hex(iv)"
   ]
  },
  {
   "cell_type": "markdown",
   "metadata": {},
   "source": [
    "### Validação do resultado\n",
    "Descriptografar o arquivo criptografado para verificar se seu conteúdo é o mesmo que o arquivo original."
   ]
  },
  {
   "cell_type": "code",
   "execution_count": 33,
   "metadata": {},
   "outputs": [],
   "source": [
    "f1 = open(\"sample.txt.CRYPT\", \"rb\")\n",
    "f2 = open(\"out.txt\", \"w\")\n",
    "f1.read(280)\n",
    "\n",
    "cipher = AES.new(key=key, iv=iv, mode=AES.MODE_CBC)\n",
    "\n",
    "c = 0\n",
    "while True:\n",
    "    block = f1.read(1024)\n",
    "\n",
    "    if block == b'':\n",
    "        break\n",
    "\n",
    "    decrypted = cipher.decrypt(block)\n",
    "\n",
    "    if len(decrypted) != 1024:\n",
    "        decrypted = decrypted[:-16] # padding\n",
    "\n",
    "    f2.write(decrypted.decode())\n",
    "    \n",
    "f1.close()\n",
    "f2.close()   "
   ]
  }
 ],
 "metadata": {
  "kernelspec": {
   "display_name": "venv",
   "language": "python",
   "name": "python3"
  },
  "language_info": {
   "codemirror_mode": {
    "name": "ipython",
    "version": 3
   },
   "file_extension": ".py",
   "mimetype": "text/x-python",
   "name": "python",
   "nbconvert_exporter": "python",
   "pygments_lexer": "ipython3",
   "version": "3.12.4"
  }
 },
 "nbformat": 4,
 "nbformat_minor": 2
}
